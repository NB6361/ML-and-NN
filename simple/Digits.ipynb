{
 "cells": [
  {
   "cell_type": "code",
   "execution_count": 208,
   "id": "086019ba",
   "metadata": {},
   "outputs": [],
   "source": [
    "import torch\n",
    "from torch import nn\n",
    "from matplotlib import pyplot as plt\n",
    "import numpy as np\n",
    "import mnist\n",
    "from sklearn.utils import shuffle\n",
    "from sklearn.metrics import roc_auc_score, accuracy_score\n",
    "from IPython.display import clear_output"
   ]
  },
  {
   "cell_type": "code",
   "execution_count": 76,
   "id": "f41122e9",
   "metadata": {},
   "outputs": [],
   "source": [
    "def GetFlattenImages(file):\n",
    "    raw = mnist.download_and_parse_mnist_file(file)\n",
    "    lst = []\n",
    "    for i in range(raw.shape[0]):\n",
    "        lst.append(raw[i].flatten())\n",
    "    return np.array(lst)\n",
    "\n",
    "def GetAppropriate(*args, rand_state=1337):\n",
    "    X_tmp = all_mages[labels == args[0]]\n",
    "    y_tmp = labels[labels == args[0]]\n",
    "    X_tmp_tst = all_mages_test[labels_test == args[0]]\n",
    "    y_tmp_tst = labels_test[labels_test == args[0]]\n",
    "    for digit in args[1:]:\n",
    "        X_tmp = np.vstack((X_tmp, all_mages[labels == digit]))\n",
    "        y_tmp = np.hstack((y_tmp, labels[labels == digit]))\n",
    "        X_tmp_tst = np.vstack((X_tmp_tst, all_mages_test[labels_test == digit]))\n",
    "        y_tmp_tst = np.hstack((y_tmp_tst, labels_test[labels_test == digit]))\n",
    "    X_tmp, y_tmp = shuffle(X_tmp, y_tmp, random_state=rand_state)\n",
    "    X_tmp_tst, y_tmp_tst = shuffle(X_tmp_tst, y_tmp_tst, random_state=rand_state)\n",
    "    return X_tmp, y_tmp, X_tmp_tst, y_tmp_tst"
   ]
  },
  {
   "cell_type": "code",
   "execution_count": 77,
   "id": "535df98c",
   "metadata": {},
   "outputs": [],
   "source": [
    "all_mages = GetFlattenImages('train-images-idx3-ubyte.gz')\n",
    "labels = mnist.download_and_parse_mnist_file('train-labels-idx1-ubyte.gz')\n",
    "all_mages_test = GetFlattenImages('t10k-images-idx3-ubyte.gz')\n",
    "labels_test = mnist.download_and_parse_mnist_file('t10k-labels-idx1-ubyte.gz')"
   ]
  },
  {
   "cell_type": "code",
   "execution_count": 192,
   "id": "cdee7849",
   "metadata": {},
   "outputs": [],
   "source": [
    "X_train, y_train, X_test, y_test = GetAppropriate(0, 1)\n",
    "X_train = torch.as_tensor(X_train, dtype=torch.float32) / 256\n",
    "y_train = torch.as_tensor(y_train, dtype=torch.float32)\n",
    "X_test = torch.as_tensor(X_test, dtype=torch.float32) / 256\n",
    "y_test = torch.as_tensor(y_test, dtype=torch.float32)"
   ]
  },
  {
   "cell_type": "code",
   "execution_count": 199,
   "id": "d7673bbd",
   "metadata": {},
   "outputs": [],
   "source": [
    "model = nn.Sequential()\n",
    "model.add_module('l1', nn.Linear(784, 1))\n",
    "model.add_module('l2', nn.Sigmoid())\n",
    "\n",
    "opt = torch.optim.Adam(model.parameters(), lr=0.0001)\n",
    "\n",
    "def GetLoss(X_batch, y_batch):\n",
    "    logits = model(X_batch)[:, 0]\n",
    "    return -torch.mean(y_batch * torch.log(logits) + (1 - y_batch) * torch.log(1 - logits))\n",
    "\n",
    "def GetBatches(X, y, sz=100):\n",
    "    permut = np.random.permutation(np.arange(len(X)))\n",
    "    for i in range(0, X.shape[0] - sz, sz):\n",
    "        yield X[permut[i:i + sz]], y[permut[i:i + sz]]"
   ]
  },
  {
   "cell_type": "code",
   "execution_count": 200,
   "id": "ca6a483c",
   "metadata": {},
   "outputs": [
    {
     "data": {
      "image/png": "[encoded data removed]",
      "text/plain": [
       "<Figure size 432x288 with 1 Axes>"
      ]
     },
     "metadata": {
      "needs_background": "light"
     },
     "output_type": "display_data"
    }
   ],
   "source": [
    "history = []\n",
    "epochs = 50\n",
    "batches_sz = 200\n",
    "\n",
    "for i in range(epochs):\n",
    "    for X_batch, y_batch in GetBatches(X_train, y_train, batches_sz):\n",
    "        loss = GetLoss(X_batch, y_batch)\n",
    "        loss.backward()\n",
    "        opt.step()\n",
    "        opt.zero_grad()\n",
    "    y_pred = model(X_test)\n",
    "    history.append(roc_auc_score(y_test.data.numpy(), y_pred.data.numpy()))\n",
    "    clear_output(True)\n",
    "    plt.plot(list(range(i + 1)), history)"
   ]
  },
  {
   "cell_type": "code",
   "execution_count": 211,
   "id": "b5f0eb01",
   "metadata": {},
   "outputs": [
    {
     "data": {
      "text/plain": [
       "0.9995271867612293"
      ]
     },
     "execution_count": 211,
     "metadata": {},
     "output_type": "execute_result"
    }
   ],
   "source": [
    "y_pred = model(X_test).data.numpy()\n",
    "y_pred[y_pred > 0.5] = 1\n",
    "y_pred[y_pred <= 0.5] = 0\n",
    "accuracy_score(y_test.data.numpy(), y_pred)"
   ]
  },
  {
   "cell_type": "code",
   "execution_count": 212,
   "id": "0ba8649e",
   "metadata": {},
   "outputs": [],
   "source": [
    "model = nn.LogSoftmax()\n",
    "arr = torch.randn(3, 5)"
   ]
  },
  {
   "cell_type": "code",
   "execution_count": 214,
   "id": "958d90a4",
   "metadata": {},
   "outputs": [
    {
     "name": "stderr",
     "output_type": "stream",
     "text": [
      "/var/folders/hp/2jz8x59n2nq11qf5tn5_l2n00000gn/T/ipykernel_2029/579068833.py:1: UserWarning: Implicit dimension choice for log_softmax has been deprecated. Change the call to include dim=X as an argument.\n",
      "  model(arr)\n"
     ]
    },
    {
     "data": {
      "text/plain": [
       "tensor([[-4.8171, -0.4859, -3.1355, -3.2704, -1.2199],\n",
       "        [-3.6430, -0.8304, -1.0384, -2.3373, -2.4382],\n",
       "        [-2.0066, -0.9330, -1.5199, -1.7975, -2.4331]])"
      ]
     },
     "execution_count": 214,
     "metadata": {},
     "output_type": "execute_result"
    }
   ],
   "source": [
    "model(arr)"
   ]
  }
 ],
 "metadata": {
  "kernelspec": {
   "display_name": "Python 3 (ipykernel)",
   "language": "python",
   "name": "python3"
  },
  "language_info": {
   "codemirror_mode": {
    "name": "ipython",
    "version": 3
   },
   "file_extension": ".py",
   "mimetype": "text/x-python",
   "name": "python",
   "nbconvert_exporter": "python",
   "pygments_lexer": "ipython3",
   "version": "3.8.5"
  }
 },
 "nbformat": 4,
 "nbformat_minor": 5
}
