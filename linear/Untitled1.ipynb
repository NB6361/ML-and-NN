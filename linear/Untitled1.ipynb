{
 "cells": [
  {
   "cell_type": "markdown",
   "id": "5c5b46da",
   "metadata": {},
   "source": [
    "# Linear Regression"
   ]
  },
  {
   "cell_type": "code",
   "execution_count": 1,
   "id": "8f63db8a",
   "metadata": {},
   "outputs": [],
   "source": [
    "from sklearn.datasets import load_iris\n",
    "from sklearn.linear_model import LinearRegression\n",
    "from sklearn.model_selection import train_test_split\n",
    "from sklearn.metrics import mean_squared_error\n",
    "import numpy as np"
   ]
  },
  {
   "cell_type": "code",
   "execution_count": 2,
   "id": "c7233305",
   "metadata": {},
   "outputs": [],
   "source": [
    "X, y = load_iris(return_X_y=True)\n",
    "X_train, X_test, y_train, y_test = train_test_split(X, y, test_size=0.2)"
   ]
  },
  {
   "cell_type": "code",
   "execution_count": 19,
   "id": "8ef7e743",
   "metadata": {},
   "outputs": [
    {
     "data": {
      "text/plain": [
       "0.0443917847004722"
      ]
     },
     "execution_count": 19,
     "metadata": {},
     "output_type": "execute_result"
    }
   ],
   "source": [
    "model = LinearRegression(fit_intercept=False)\n",
    "model.fit(X_train, y_train)\n",
    "mean_squared_error(model.predict(X_test), y_test)"
   ]
  },
  {
   "cell_type": "code",
   "execution_count": 181,
   "id": "e8087897",
   "metadata": {},
   "outputs": [],
   "source": [
    "class MyLinearRegression:\n",
    "    def __init__(self, epochs=2000, lr=1e-3, coef=0.01):\n",
    "        self.lr = lr\n",
    "        self.coef = coef\n",
    "        self.epochs=epochs\n",
    "        \n",
    "    def get_mini_batches(self, X, y, num):\n",
    "        n = len(X)\n",
    "        order = np.array(range(n))\n",
    "        for i in range(num, n, num):\n",
    "            yield X[order[i-num : i]], y[order[i-num : i]]\n",
    "    \n",
    "    def fit(self, X, y):\n",
    "        n = X.shape[0]\n",
    "        m = X.shape[1]\n",
    "        additional = np.ones((n, 1))\n",
    "        X_copy = X.copy()\n",
    "        X_copy = np.hstack((X_copy, additional))\n",
    "        w = np.random.random(m + 1)\n",
    "        for i in range(self.epochs):\n",
    "            for x_batch, y_batch in self.get_mini_batches(X_copy, y, 10):\n",
    "                pred = x_batch.dot(w)\n",
    "                err = pred - y_batch\n",
    "                grad = 2 * x_batch.T.dot(err) / (n // 10) + 2 * self.coef * w.dot(w) / (n // 10) ** 2\n",
    "                w -= self.lr * grad\n",
    "        self.w = w\n",
    "        \n",
    "    def predict(self, X):\n",
    "        additional = np.ones((len(X), 1))\n",
    "        X_copy = X.copy()\n",
    "        X_copy = np.hstack((X_copy, additional))\n",
    "        return X_copy.dot(self.w)"
   ]
  },
  {
   "cell_type": "code",
   "execution_count": 93,
   "id": "ae3d75b2",
   "metadata": {},
   "outputs": [
    {
     "data": {
      "text/plain": [
       "0.04442157350119207"
      ]
     },
     "execution_count": 93,
     "metadata": {},
     "output_type": "execute_result"
    }
   ],
   "source": [
    "model = MyLinearRegression()\n",
    "model.fit(X_train, y_train)\n",
    "mean_squared_error(model.predict(X_test), y_test)"
   ]
  },
  {
   "cell_type": "code",
   "execution_count": 150,
   "id": "88ca11b2",
   "metadata": {},
   "outputs": [],
   "source": [
    "from sklearn.datasets import load_boston\n",
    "from sklearn.preprocessing import StandardScaler"
   ]
  },
  {
   "cell_type": "code",
   "execution_count": 151,
   "id": "667b50e2",
   "metadata": {},
   "outputs": [],
   "source": [
    "X, y = load_boston(return_X_y=True)\n",
    "X = StandardScaler().fit(X).transform(X)\n",
    "X_train, X_test, y_train, y_test = train_test_split(X, y, test_size=0.2)"
   ]
  },
  {
   "cell_type": "code",
   "execution_count": 171,
   "id": "e0906f03",
   "metadata": {},
   "outputs": [
    {
     "data": {
      "text/plain": [
       "18.902048722194927"
      ]
     },
     "execution_count": 171,
     "metadata": {},
     "output_type": "execute_result"
    }
   ],
   "source": [
    "model = LinearRegression()\n",
    "model.fit(X_train, y_train)\n",
    "mean_squared_error(y_test, model.predict(X_test))"
   ]
  },
  {
   "cell_type": "code",
   "execution_count": 182,
   "id": "f9e744e5",
   "metadata": {},
   "outputs": [
    {
     "data": {
      "text/plain": [
       "18.87624067362916"
      ]
     },
     "execution_count": 182,
     "metadata": {},
     "output_type": "execute_result"
    }
   ],
   "source": [
    "model = MyLinearRegression()\n",
    "model.fit(X_train, y_train)\n",
    "mean_squared_error(y_test, model.predict(X_test))"
   ]
  }
 ],
 "metadata": {
  "kernelspec": {
   "display_name": "Python 3 (ipykernel)",
   "language": "python",
   "name": "python3"
  },
  "language_info": {
   "codemirror_mode": {
    "name": "ipython",
    "version": 3
   },
   "file_extension": ".py",
   "mimetype": "text/x-python",
   "name": "python",
   "nbconvert_exporter": "python",
   "pygments_lexer": "ipython3",
   "version": "3.8.5"
  }
 },
 "nbformat": 4,
 "nbformat_minor": 5
}
